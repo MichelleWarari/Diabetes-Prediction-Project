{
  "nbformat": 4,
  "nbformat_minor": 0,
  "metadata": {
    "colab": {
      "provenance": []
    },
    "kernelspec": {
      "name": "python3",
      "display_name": "Python 3"
    },
    "language_info": {
      "name": "python"
    }
  },
  "cells": [
    {
      "cell_type": "code",
      "execution_count": 3,
      "metadata": {
        "colab": {
          "base_uri": "https://localhost:8080/",
          "height": 1000
        },
        "id": "IT3sdAo5VRRz",
        "outputId": "7f4c1c40-a653-4a6b-e140-e8653f2b5954"
      },
      "outputs": [
        {
          "output_type": "stream",
          "name": "stdout",
          "text": [
            "<class 'pandas.core.frame.DataFrame'>\n",
            "RangeIndex: 768 entries, 0 to 767\n",
            "Data columns (total 9 columns):\n",
            " #   Column                    Non-Null Count  Dtype  \n",
            "---  ------                    --------------  -----  \n",
            " 0   Pregnancies               768 non-null    int64  \n",
            " 1   Glucose                   768 non-null    int64  \n",
            " 2   BloodPressure             768 non-null    int64  \n",
            " 3   SkinThickness             768 non-null    int64  \n",
            " 4   Insulin                   768 non-null    int64  \n",
            " 5   BMI                       768 non-null    float64\n",
            " 6   DiabetesPedigreeFunction  768 non-null    float64\n",
            " 7   Age                       768 non-null    int64  \n",
            " 8   Outcome                   768 non-null    int64  \n",
            "dtypes: float64(2), int64(7)\n",
            "memory usage: 54.1 KB\n",
            "       Pregnancies     Glucose  BloodPressure  SkinThickness     Insulin  \\\n",
            "count   768.000000  768.000000     768.000000     768.000000  768.000000   \n",
            "mean      3.845052  120.894531      69.105469      20.536458   79.799479   \n",
            "std       3.369578   31.972618      19.355807      15.952218  115.244002   \n",
            "min       0.000000    0.000000       0.000000       0.000000    0.000000   \n",
            "25%       1.000000   99.000000      62.000000       0.000000    0.000000   \n",
            "50%       3.000000  117.000000      72.000000      23.000000   30.500000   \n",
            "75%       6.000000  140.250000      80.000000      32.000000  127.250000   \n",
            "max      17.000000  199.000000     122.000000      99.000000  846.000000   \n",
            "\n",
            "              BMI  DiabetesPedigreeFunction         Age     Outcome  \n",
            "count  768.000000                768.000000  768.000000  768.000000  \n",
            "mean    31.992578                  0.471876   33.240885    0.348958  \n",
            "std      7.884160                  0.331329   11.760232    0.476951  \n",
            "min      0.000000                  0.078000   21.000000    0.000000  \n",
            "25%     27.300000                  0.243750   24.000000    0.000000  \n",
            "50%     32.000000                  0.372500   29.000000    0.000000  \n",
            "75%     36.600000                  0.626250   41.000000    1.000000  \n",
            "max     67.100000                  2.420000   81.000000    1.000000  \n"
          ]
        },
        {
          "output_type": "display_data",
          "data": {
            "text/plain": [
              "<Figure size 640x480 with 1 Axes>"
            ],
            "image/png": "[encoded data removed]"
          },
          "metadata": {}
        },
        {
          "output_type": "stream",
          "name": "stdout",
          "text": [
            "Logistic Regression: Sensitivity = 0.673, Specificity = 0.788\n",
            "Decision Tree: Sensitivity = 0.727, Specificity = 0.758\n",
            "SVM: Sensitivity = 0.564, Specificity = 0.879\n",
            "KNN: Sensitivity = 0.582, Specificity = 0.707\n"
          ]
        }
      ],
      "source": [
        "#Imorting multiple libraries  to read , analyze and visualize the dataset\n",
        "import numpy as np\n",
        "import pandas as pd\n",
        "import matplotlib.pyplot as plt\n",
        "import seaborn as sns\n",
        "\n",
        "#Loading the diabetes dataset\n",
        "dataset = pd.read_csv('/content/sample_data/diabetes.csv')\n",
        "X = dataset.iloc[:, :-1].values\n",
        "y = dataset.iloc[:, -1].values\n",
        "\n",
        "#Displaying the  dataset\n",
        "dataset.head()\n",
        "\n",
        "#Checking the dataset shape\n",
        "dataset.shape\n",
        "\n",
        "#Basic information regarding the data\n",
        "dataset.info()\n",
        "\n",
        "# Finding the missing values\n",
        "dataset.isnull().sum()\n",
        "\n",
        "# Describe function gives the basic numerical info about data for each numeric feature\n",
        "print(dataset.describe(include='all'))\n",
        "\n",
        "# Data points count value for each class labels\n",
        "dataset.Outcome.value_counts()\n",
        "\n",
        "# Visualize the distribution of Outcome (target variable)\n",
        "sns.countplot(x='Outcome', data=dataset)\n",
        "plt.show()\n",
        "\n",
        "# Importing necessary libraries for model training and evaluation\n",
        "from sklearn.model_selection import train_test_split\n",
        "from sklearn.linear_model import LogisticRegression\n",
        "from sklearn.tree import DecisionTreeClassifier\n",
        "from sklearn.svm import SVC\n",
        "from sklearn.neighbors import KNeighborsClassifier\n",
        "from sklearn.metrics import confusion_matrix\n",
        "import numpy as np\n",
        "\n",
        "# Splitting the dataset into training and testing sets\n",
        "X_train, X_test, y_train, y_test = train_test_split(X, y, test_size=0.2, random_state=42)\n",
        "\n",
        "# Initializing the models\n",
        "lr = LogisticRegression(max_iter=1000, random_state=42)\n",
        "dt = DecisionTreeClassifier(random_state=42)\n",
        "svm = SVC(random_state=42)\n",
        "knn = KNeighborsClassifier()\n",
        "\n",
        "# Training the models\n",
        "lr.fit(X_train, y_train)\n",
        "dt.fit(X_train, y_train)\n",
        "svm.fit(X_train, y_train)\n",
        "knn.fit(X_train, y_train)\n",
        "\n",
        "# Function to calculate sensitivity and specificity\n",
        "def calc_metrics(y_true, y_pred):\n",
        "    cm = confusion_matrix(y_true, y_pred)\n",
        "    tn, fp, fn, tp = cm.ravel()\n",
        "    sensitivity = tp / (tp + fn)\n",
        "    specificity = tn / (tn + fp)\n",
        "    return sensitivity, specificity\n",
        "\n",
        "# Evaluating the models\n",
        "models = {'Logistic Regression': lr, 'Decision Tree': dt, 'SVM': svm, 'KNN': knn}\n",
        "results = {}\n",
        "\n",
        "for name, model in models.items():\n",
        "    y_pred = model.predict(X_test)\n",
        "    sensitivity, specificity = calc_metrics(y_test, y_pred)\n",
        "    results[name] = {'Sensitivity': sensitivity, 'Specificity': specificity}\n",
        "\n",
        "# Displaying results\n",
        "for name, metrics in results.items():\n",
        "    print(f\"{name}: Sensitivity = {metrics['Sensitivity']:.3f}, Specificity = {metrics['Specificity']:.3f}\")"
      ]
    }
  ]
}